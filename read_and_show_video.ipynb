{
 "cells": [
  {
   "cell_type": "markdown",
   "metadata": {},
   "source": [
    "## Read And Show Video With Opencv\n",
    "##### Reading a video:\n",
    "We can read a video either from our webcam (By passing 0 to the VideoCapture instance) or from a file (By passing the file path to the VideoCapture instance).\n",
    "\n",
    "##### Reading from webcam\n",
    "    cap = cv2.VideoCapture(0)\n",
    "        \n",
    "##### Reading from file\n",
    "    cap = cv2.VideoCapture(\"full_file_path\") \n",
    "        \n",
    "cap.read() returns two value, first one we are storing in 'ret'. it's storing a boolean value which is storing True while the video is opencv. second one returns the frame.\n",
    "\n",
    "##### Defining the stopping button        \n",
    "Breaking to loop on pressing 'q'.\n",
    "\n",
    "    if cv2.waitKey(1) & 0xFF == ord('q'):\n",
    "        break\n",
    "        \n",
    "Breaking the loop on pressing the close button.\n",
    "\n",
    "    if cv2.waitKey(1) & 0xFF == ord('q') or (cv2.getWindowProperty('frame',1)) == -1.0:\n",
    "            break\n",
    "\n"
   ]
  },
  {
   "cell_type": "code",
   "execution_count": 2,
   "metadata": {},
   "outputs": [],
   "source": [
    "#importing the opencv library\n",
    "import cv2"
   ]
  },
  {
   "cell_type": "code",
   "execution_count": 7,
   "metadata": {},
   "outputs": [],
   "source": [
    "#defining the video source\n",
    "cap = cv2.VideoCapture(0)"
   ]
  },
  {
   "cell_type": "code",
   "execution_count": 9,
   "metadata": {},
   "outputs": [],
   "source": [
    "#reading the frames while video source is active\n",
    "while(cap.isOpened()):\n",
    "    ret, frame = cap.read()\n",
    "\n",
    "    gray = cv2.cvtColor(frame, cv2.COLOR_BGR2GRAY)\n",
    "\n",
    "    cv2.imshow('frame_gray',gray)\n",
    "    cv2.imshow('frame_color',frame)\n",
    "    if cv2.waitKey(1) & 0xFF == ord('q'):\n",
    "        break\n",
    "\n",
    "cap.release()\n",
    "cv2.destroyAllWindows()"
   ]
  },
  {
   "cell_type": "code",
   "execution_count": null,
   "metadata": {},
   "outputs": [],
   "source": []
  }
 ],
 "metadata": {
  "kernelspec": {
   "display_name": "Python 3",
   "language": "python",
   "name": "python3"
  },
  "language_info": {
   "codemirror_mode": {
    "name": "ipython",
    "version": 3
   },
   "file_extension": ".py",
   "mimetype": "text/x-python",
   "name": "python",
   "nbconvert_exporter": "python",
   "pygments_lexer": "ipython3",
   "version": "3.6.5"
  }
 },
 "nbformat": 4,
 "nbformat_minor": 4
}
